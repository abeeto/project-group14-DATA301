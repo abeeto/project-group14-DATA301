{
 "cells": [
  {
   "cell_type": "code",
   "execution_count": null,
   "id": "4aa78cf8",
   "metadata": {},
   "outputs": [],
   "source": [
    "def load_and_process(stuff):\n",
    "    import pandas as pd\n",
    "    import numpy as np\n",
    "    import math\n",
    "    house = pd.read_csv(stuff)\n",
    "    # Method Chain 1 (Load and clean data)   \n",
    "    house = (   \n",
    "    pd.read_csv(\"../data/raw/California_Houses.csv\")\n",
    "    .rename(columns={\"Tot_Rooms\":\"Rooms\", \"Tot_Bedrooms\":\"Bedrooms\", \"Median_Income\":\"Income\", \n",
    "                              \"Median_House_Value\":\"House_Value\", \"Median_Age\":\"Age\"})\n",
    "      )\n",
    "    df2 = (\n",
    "        house\n",
    "        .apply(lambda x: 10000*x if x.name=='Income' else x)\n",
    "        .assign(Rooms_Per_House=lambda x: (x['Rooms'] / x['Households']))\n",
    "        .drop(columns=[\"Rooms\"])\n",
    "        .assign(Bedrooms_Per_House=lambda x: (x['Bedrooms'] / x['Households']))\n",
    "        .drop(columns=[\"Bedrooms\"])\n",
    "        .assign(Population_Per_House=lambda x: (x['Population'] / x['Households']))\n",
    "        .drop(columns=[\"Population\"])\n",
    "        .reindex(columns=['House_Value', 'Income', 'Age', 'Rooms_Per_House', 'Bedrooms_Per_House', 'Population_Per_House', 'Households', 'Latitude', 'Longitude', 'Distance_to_coast', 'Distance_to_LA', 'Distance_to_SanDiego', 'Distance_to_SanJose', 'Distance_to_SanFrancisco'])\n",
    "    )\n",
    "    return df2"
   ]
  }
 ],
 "metadata": {
  "kernelspec": {
   "display_name": "Python 3 (ipykernel)",
   "language": "python",
   "name": "python3"
  },
  "language_info": {
   "codemirror_mode": {
    "name": "ipython",
    "version": 3
   },
   "file_extension": ".py",
   "mimetype": "text/x-python",
   "name": "python",
   "nbconvert_exporter": "python",
   "pygments_lexer": "ipython3",
   "version": "3.9.5"
  }
 },
 "nbformat": 4,
 "nbformat_minor": 5
}
