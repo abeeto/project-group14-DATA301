{
 "cells": [
  {
   "cell_type": "markdown",
   "source": [
    "# Your Name Here"
   ],
   "metadata": {}
  },
  {
   "cell_type": "code",
   "execution_count": null,
   "source": [
    "Jaden Dyck"
   ],
   "outputs": [],
   "metadata": {}
  },
  {
   "cell_type": "markdown",
   "source": [
    "## Research question/interests\r\n",
    "\r\n",
    "Briefly describe your research question or interests here."
   ],
   "metadata": {}
  },
  {
   "cell_type": "code",
   "execution_count": null,
   "source": [
    "I would be interersted in doing a regression analysis or something along the lines, to see the relationship between housing prices in California and other variables.\r\n",
    "These variables include distance from the coastline, age of the house and number of bedrooms and bathrooms. I would also like to see the magnitude of how household income positively affects house prices."
   ],
   "outputs": [],
   "metadata": {}
  }
 ],
 "metadata": {
  "orig_nbformat": 4,
  "language_info": {
   "name": "plaintext"
  }
 },
 "nbformat": 4,
 "nbformat_minor": 2
}