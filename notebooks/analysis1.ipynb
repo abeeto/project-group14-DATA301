{
 "cells": [
  {
   "cell_type": "markdown",
   "metadata": {},
   "source": [
    "# Abhinav Thota\n",
    "\n",
    "## Research Interest\n",
    "I am interested in investigating where the ideal location in California (in terms of house pricing) is based on its location.\n",
    "\n",
    "Specifically, would a location that is equidistant to all nearby city centres be better or would it be more expensive the closer it is to one city. If so, which city in particular. \n",
    "\n",
    "It would also be interesting to investigate between house types and households as it gets further away from a city centre. Maybe it's close to one of the urban city models."
   ]
  }
 ],
 "metadata": {
  "language_info": {
   "name": "python"
  },
  "orig_nbformat": 4
 },
 "nbformat": 4,
 "nbformat_minor": 2
}
