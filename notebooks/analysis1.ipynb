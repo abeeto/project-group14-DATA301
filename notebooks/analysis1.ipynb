{
 "cells": [
  {
   "cell_type": "markdown",
   "metadata": {},
   "source": [
<<<<<<< HEAD
    "# Abhinav Thota"
=======
    "# Your Name Here"
>>>>>>> fc062e0b7b9079c389d8e8b01bcc2f9cd8800844
   ]
  },
  {
   "cell_type": "markdown",
   "metadata": {},
   "source": [
<<<<<<< HEAD
    "## Research question/interests\n",
    "\n",
    "I am interested in investigating if price of housing rises as it gets closer to the coast line and if so, I would like to also investigate the anamolies where the opposite is true."
=======
    "## Research question/interests\r\n",
    "\r\n",
    "Briefly describe your research question or interests here."
>>>>>>> fc062e0b7b9079c389d8e8b01bcc2f9cd8800844
   ]
  }
 ],
 "metadata": {
  "kernelspec": {
<<<<<<< HEAD
   "display_name": "Python 3 (ipykernel)",
=======
   "display_name": "Python 3",
>>>>>>> fc062e0b7b9079c389d8e8b01bcc2f9cd8800844
   "language": "python",
   "name": "python3"
  },
  "language_info": {
   "codemirror_mode": {
    "name": "ipython",
    "version": 3
   },
   "file_extension": ".py",
   "mimetype": "text/x-python",
   "name": "python",
   "nbconvert_exporter": "python",
   "pygments_lexer": "ipython3",
<<<<<<< HEAD
   "version": "3.9.5"
  }
 },
 "nbformat": 4,
 "nbformat_minor": 2
=======
   "version": "3.8.5"
  }
 },
 "nbformat": 4,
 "nbformat_minor": 4
>>>>>>> fc062e0b7b9079c389d8e8b01bcc2f9cd8800844
}
